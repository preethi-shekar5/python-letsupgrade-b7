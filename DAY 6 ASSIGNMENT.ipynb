{
 "cells": [
  {
   "cell_type": "code",
   "execution_count": 58,
   "metadata": {},
   "outputs": [],
   "source": [
    "# QUESTION1:CREATE A BANK ACCOUNT CLASS THAT HAS 2 ATTRIBUTES NAME AND BALANCE , AND 2 METHODS DEPOSIT AND WITHDRAW \n",
    "# INSTANTIATE UR CLASS ,MAKE SEVERAL DEPOSITS AND WITHDRAWALS AND TEST TO AMKE SYRE THAT ACCOUNT CANT BE OVERDRAWN..."
   ]
  },
  {
   "cell_type": "code",
   "execution_count": 23,
   "metadata": {},
   "outputs": [],
   "source": [
    "class account():\n",
    "    def __init__(self,name,balance):\n",
    "        self.name=name\n",
    "        self.balance=balance\n",
    "    def deposit(self,amount):\n",
    "        self.amount=amount\n",
    "        self.balance=self.balance+self.amount\n",
    "        print(\"Available balance=\",self.balance)\n",
    "    def withdraw(self,amount1):\n",
    "        self.amount1=amount1\n",
    "        if self.amount1<=self.balance:\n",
    "            self.balance=self.balance-self.amount1\n",
    "            print(\"available balance =\",self.balance)\n",
    "        else:\n",
    "            print(\"withdrawal amount exceeds the available amount\")"
   ]
  },
  {
   "cell_type": "code",
   "execution_count": 24,
   "metadata": {},
   "outputs": [],
   "source": [
    "customer1=account(\"preethi\",0)"
   ]
  },
  {
   "cell_type": "code",
   "execution_count": 26,
   "metadata": {},
   "outputs": [
    {
     "name": "stdout",
     "output_type": "stream",
     "text": [
      "Available balance= 10000\n"
     ]
    }
   ],
   "source": [
    "customer1.deposit(5000)"
   ]
  },
  {
   "cell_type": "code",
   "execution_count": 27,
   "metadata": {},
   "outputs": [
    {
     "name": "stdout",
     "output_type": "stream",
     "text": [
      "available balance = 8000\n"
     ]
    }
   ],
   "source": [
    "customer1.withdraw(2000)"
   ]
  },
  {
   "cell_type": "code",
   "execution_count": 28,
   "metadata": {},
   "outputs": [
    {
     "name": "stdout",
     "output_type": "stream",
     "text": [
      "withdrawal amount exceeds the available amount\n"
     ]
    }
   ],
   "source": [
    "customer1.withdraw(9000)"
   ]
  },
  {
   "cell_type": "code",
   "execution_count": 59,
   "metadata": {},
   "outputs": [],
   "source": [
    "# QUESTION 2: FOR THIS CHALLENGE , CREATE  A CONE CLASS THAT HAS 2 ATTRIBUTES : RADIUS AND HEIGHT, AND 2 METHODS: VOLUME \n",
    "# AND SURFACE AREA  MAKE NLY 1 CLASS ED FUNCTIONS ,AS N WHERE REQUIRED IMPORT MATH."
   ]
  },
  {
   "cell_type": "code",
   "execution_count": 55,
   "metadata": {},
   "outputs": [],
   "source": [
    "import math\n",
    "class cone():\n",
    "    def __init__(self,radius,height):\n",
    "        self.radius =radius\n",
    "        self.height=height\n",
    "    def volume(self):\n",
    "        print(\"volume of a cone = \", 3.142*self.radius*self.radius*self.height/3)\n",
    "    def surfaceArea(self):\n",
    "        print(\"surface area of a cone =\",3.142*self.radius*self.radius + 3.142*self.radius*math.sqrt(self.radius*self.radius+self.height*self.height))"
   ]
  },
  {
   "cell_type": "code",
   "execution_count": 56,
   "metadata": {},
   "outputs": [],
   "source": [
    "values = cone(2,3)"
   ]
  },
  {
   "cell_type": "code",
   "execution_count": 53,
   "metadata": {},
   "outputs": [
    {
     "name": "stdout",
     "output_type": "stream",
     "text": [
      "volume of a cone =  12.568\n"
     ]
    }
   ],
   "source": [
    "values.volume()"
   ]
  },
  {
   "cell_type": "code",
   "execution_count": 57,
   "metadata": {},
   "outputs": [
    {
     "name": "stdout",
     "output_type": "stream",
     "text": [
      "surface area of a cone = 35.225284215015705\n"
     ]
    }
   ],
   "source": [
    "values.surfaceArea()"
   ]
  }
 ],
 "metadata": {
  "kernelspec": {
   "display_name": "Python 3",
   "language": "python",
   "name": "python3"
  },
  "language_info": {
   "codemirror_mode": {
    "name": "ipython",
    "version": 3
   },
   "file_extension": ".py",
   "mimetype": "text/x-python",
   "name": "python",
   "nbconvert_exporter": "python",
   "pygments_lexer": "ipython3",
   "version": "3.8.3"
  }
 },
 "nbformat": 4,
 "nbformat_minor": 4
}
