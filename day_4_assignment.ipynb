{
  "nbformat": 4,
  "nbformat_minor": 0,
  "metadata": {
    "colab": {
      "name": "day 4 assignment.ipynb",
      "provenance": [],
      "authorship_tag": "ABX9TyOQs4dn9ja+F0gkmaecNBx5",
      "include_colab_link": true
    },
    "kernelspec": {
      "name": "python3",
      "display_name": "Python 3"
    }
  },
  "cells": [
    {
      "cell_type": "markdown",
      "metadata": {
        "id": "view-in-github",
        "colab_type": "text"
      },
      "source": [
        "<a href=\"https://colab.research.google.com/github/preethi-shekar5/pythonletsupgrade-b7/blob/master/day_4_assignment.ipynb\" target=\"_parent\"><img src=\"https://colab.research.google.com/assets/colab-badge.svg\" alt=\"Open In Colab\"/></a>"
      ]
    },
    {
      "cell_type": "code",
      "metadata": {
        "id": "HFeN_QKDHD0g",
        "colab_type": "code",
        "colab": {
          "base_uri": "https://localhost:8080/",
          "height": 34
        },
        "outputId": "06709a74-5118-4887-a2d9-98ad4c7eca00"
      },
      "source": [
        "lower=1042000\n",
        "upper=702648265\n",
        "  \n",
        "for num in range(lower,upper+1):\n",
        "        order =len(str(num))\n",
        "        sum = 0\n",
        "        temp = num \n",
        "        while temp>0:\n",
        "          digit = temp % 10\n",
        "          sum += digit ** order\n",
        "          temp //=10\n",
        "        if num==sum:\n",
        "           print(num)\n",
        "           break"
      ],
      "execution_count": 7,
      "outputs": [
        {
          "output_type": "stream",
          "text": [
            "1741725\n"
          ],
          "name": "stdout"
        }
      ]
    }
  ]
}