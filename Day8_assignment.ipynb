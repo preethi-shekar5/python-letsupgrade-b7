{
  "nbformat": 4,
  "nbformat_minor": 0,
  "metadata": {
    "colab": {
      "name": "Day8 assignment.ipynb",
      "provenance": [],
      "authorship_tag": "ABX9TyPrQdDbCWfXgqd7ainC2u9L",
      "include_colab_link": true
    },
    "kernelspec": {
      "name": "python3",
      "display_name": "Python 3"
    }
  },
  "cells": [
    {
      "cell_type": "markdown",
      "metadata": {
        "id": "view-in-github",
        "colab_type": "text"
      },
      "source": [
        "<a href=\"https://colab.research.google.com/github/preethi-shekar5/pythonletsupgrade-b7/blob/master/Day8_assignment.ipynb\" target=\"_parent\"><img src=\"https://colab.research.google.com/assets/colab-badge.svg\" alt=\"Open In Colab\"/></a>"
      ]
    },
    {
      "cell_type": "markdown",
      "metadata": {
        "id": "ijexleBWkMqJ",
        "colab_type": "text"
      },
      "source": [
        "Question 1: write a decorator function for ur takinginput for u to build any kind of function"
      ]
    },
    {
      "cell_type": "code",
      "metadata": {
        "id": "u3vipwYLfC4l",
        "colab_type": "code",
        "colab": {}
      },
      "source": [
        "def decorateFun(tempFun):\n",
        "    def inputFun():\n",
        "       print(\"enter 2 numbers-\")\n",
        "       a=int(input(\"enter the number1-\"))\n",
        "       b=int(input(\"enter the number2-\"))\n",
        "       tempFun(a,b)\n",
        "    return inputFun"
      ],
      "execution_count": null,
      "outputs": []
    },
    {
      "cell_type": "code",
      "metadata": {
        "id": "vkSC6Z2uiGvx",
        "colab_type": "code",
        "colab": {}
      },
      "source": [
        " \n",
        "@decorateFun\n",
        "def evenOddFun(num1,num2):\n",
        "    if num1%2==0 and num2%2==0:\n",
        "        print(\"Both the numbers are even\")\n",
        "    else:\n",
        "        print(\"one of the number or both may be odd\")"
      ],
      "execution_count": null,
      "outputs": []
    },
    {
      "cell_type": "code",
      "metadata": {
        "id": "uqqvxSokjrY5",
        "colab_type": "code",
        "colab": {
          "base_uri": "https://localhost:8080/",
          "height": 106
        },
        "outputId": "dce4d213-3009-43ab-b576-864d8b06e395"
      },
      "source": [
        "evenOddFun()"
      ],
      "execution_count": null,
      "outputs": [
        {
          "output_type": "stream",
          "text": [
            "enter 2 numbers-\n",
            "enter the number1-2\n",
            "enter the number2-5\n",
            "one of the number or both may be odd\n"
          ],
          "name": "stdout"
        }
      ]
    },
    {
      "cell_type": "code",
      "metadata": {
        "id": "J9zdt4AVkAcJ",
        "colab_type": "code",
        "colab": {
          "base_uri": "https://localhost:8080/",
          "height": 86
        },
        "outputId": "7dc232b3-ba51-44cb-9dd4-99e56ff0a6c1"
      },
      "source": [
        "evenOddFun()"
      ],
      "execution_count": null,
      "outputs": [
        {
          "output_type": "stream",
          "text": [
            "enter 2 numbers-\n",
            "enter the number1-4\n",
            "enter the number2-6\n",
            "Both the numbers are even\n"
          ],
          "name": "stdout"
        }
      ]
    },
    {
      "cell_type": "markdown",
      "metadata": {
        "id": "gUsdaQPCkzx6",
        "colab_type": "text"
      },
      "source": [
        "Question 2: open a file wd read only and try write something in it and handle the error by exception handling"
      ]
    },
    {
      "cell_type": "code",
      "metadata": {
        "id": "Dsr0MSndmKqV",
        "colab_type": "code",
        "colab": {}
      },
      "source": [
        " file = open(\"example.txt\",\"w\")\n",
        "file.write(\"itz juz an example \")\n",
        "file.close()"
      ],
      "execution_count": null,
      "outputs": []
    },
    {
      "cell_type": "code",
      "metadata": {
        "id": "Y06yMsx0qqWM",
        "colab_type": "code",
        "colab": {
          "base_uri": "https://localhost:8080/",
          "height": 54
        },
        "outputId": "71718dc8-745a-4758-f42d-1ee59c4c7b7f"
      },
      "source": [
        " try:\n",
        "   file = open(\"example.txt\", \"r\")\n",
        "   file.write(\"This is my test file for exception handling!!\")\n",
        "except IOError:\n",
        "   print (\"Error: can\\'t find file or read data\")\n",
        "else:\n",
        "   print (\"Written content in the file\" )"
      ],
      "execution_count": 28,
      "outputs": [
        {
          "output_type": "stream",
          "text": [
            "Error: can't find file or read data\n"
          ],
          "name": "stdout"
        }
      ]
    }
  ]
}