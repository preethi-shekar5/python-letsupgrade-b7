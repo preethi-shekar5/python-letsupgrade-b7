{
 "cells": [
  {
   "cell_type": "raw",
   "metadata": {},
   "source": [
    "Question1: \n",
    "you all are pilots you want to land a plane safely ,so altitude required for landing a plane is 1000ft, if it is less than \n",
    "1000ft  tell pilot to land the plan or it is more than that but less than 5000ft ask pilot to \"come down to 1000ft\",else if \n",
    "it more than 5000ft ask the pilot to \" go around and try later\". \n"
   ]
  },
  {
   "cell_type": "code",
   "execution_count": 12,
   "metadata": {},
   "outputs": [
    {
     "name": "stdout",
     "output_type": "stream",
     "text": [
      "feet = 3000\n",
      "COME DOWN TO 1000FT\n"
     ]
    }
   ],
   "source": [
    "feet = input(\"feet = \")\n",
    "feet = int(feet)\n",
    "if (feet <= 1000):\n",
    "    print(\"LAND THE PLANE\")\n",
    "    \n",
    "elif (feet > 1000) and (feet<=5000):\n",
    "    print(\"COME DOWN TO 1000FT\")\n",
    "    \n",
    "else:\n",
    "    print(\"GO AROUND AND TRY LATER\")\n",
    "    "
   ]
  },
  {
   "cell_type": "raw",
   "metadata": {},
   "source": [
    "question 2:\n",
    "write a program to print all the prime numbers from 1 to 200 .    "
   ]
  },
  {
   "cell_type": "code",
   "execution_count": 13,
   "metadata": {},
   "outputs": [
    {
     "name": "stdout",
     "output_type": "stream",
     "text": [
      "the prime numbers from 1 to 200 are:\n",
      "2\n",
      "3\n",
      "5\n",
      "7\n",
      "11\n",
      "13\n",
      "17\n",
      "19\n",
      "23\n",
      "29\n",
      "31\n",
      "37\n",
      "41\n",
      "43\n",
      "47\n",
      "53\n",
      "59\n",
      "61\n",
      "67\n",
      "71\n",
      "73\n",
      "79\n",
      "83\n",
      "89\n",
      "97\n",
      "101\n",
      "103\n",
      "107\n",
      "109\n",
      "113\n",
      "127\n",
      "131\n",
      "137\n",
      "139\n",
      "149\n",
      "151\n",
      "157\n",
      "163\n",
      "167\n",
      "173\n",
      "179\n",
      "181\n",
      "191\n",
      "193\n",
      "197\n",
      "199\n"
     ]
    }
   ],
   "source": [
    "lower=1\n",
    "upper=200\n",
    "\n",
    "print(\"the prime numbers from 1 to 200 are:\")\n",
    "\n",
    "for num in range(lower,upper+1):\n",
    "    if num>1:\n",
    "        for i in range(2,num):\n",
    "            if (num % i)== 0:\n",
    "                break\n",
    "        else:\n",
    "            print(num)"
   ]
  }
 ],
 "metadata": {
  "kernelspec": {
   "display_name": "Python 3",
   "language": "python",
   "name": "python3"
  },
  "language_info": {
   "codemirror_mode": {
    "name": "ipython",
    "version": 3
   },
   "file_extension": ".py",
   "mimetype": "text/x-python",
   "name": "python",
   "nbconvert_exporter": "python",
   "pygments_lexer": "ipython3",
   "version": "3.8.3"
  }
 },
 "nbformat": 4,
 "nbformat_minor": 4
}
